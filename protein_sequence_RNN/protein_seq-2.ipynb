{
 "cells": [
  {
   "cell_type": "markdown",
   "metadata": {},
   "source": [
    "# Protein sequence playing around\n",
    "### Continued"
   ]
  },
  {
   "cell_type": "code",
   "execution_count": 1,
   "metadata": {},
   "outputs": [],
   "source": [
    "import numpy as np\n",
    "import requests\n",
    "import re\n",
    "import xml.etree.ElementTree as ET\n",
    "\n",
    "import matplotlib.pyplot as plt"
   ]
  },
  {
   "cell_type": "markdown",
   "metadata": {},
   "source": [
    "### Load data\n",
    "Sequences were previously taken from the RCSB website"
   ]
  },
  {
   "cell_type": "code",
   "execution_count": 2,
   "metadata": {},
   "outputs": [],
   "source": [
    "import pickle\n",
    "with open ('fastas', 'rb') as read:\n",
    "    all_seq = pickle.load(read)"
   ]
  },
  {
   "cell_type": "markdown",
   "metadata": {},
   "source": [
    "Full vocabulary"
   ]
  },
  {
   "cell_type": "code",
   "execution_count": 4,
   "metadata": {},
   "outputs": [
    {
     "data": {
      "text/plain": [
       "'IWPulCREDMQSNGVFYHLnKTXAU'"
      ]
     },
     "execution_count": 4,
     "metadata": {},
     "output_type": "execute_result"
    }
   ],
   "source": [
    "unique = set()\n",
    "for s in all_seq:\n",
    "    for a in s:\n",
    "        unique.update(a)\n",
    "''.join(unique)"
   ]
  },
  {
   "cell_type": "code",
   "execution_count": 39,
   "metadata": {},
   "outputs": [],
   "source": [
    "# conversion maps\n",
    "n_to_aa = {i:v for i,v in enumerate(unique)}\n",
    "aa_to_n = {v:i for i,v in enumerate(unique)}"
   ]
  },
  {
   "cell_type": "markdown",
   "metadata": {},
   "source": [
    "Truncating short sequences"
   ]
  },
  {
   "cell_type": "code",
   "execution_count": 5,
   "metadata": {},
   "outputs": [
    {
     "data": {
      "text/plain": [
       "29778"
      ]
     },
     "execution_count": 5,
     "metadata": {},
     "output_type": "execute_result"
    }
   ],
   "source": [
    "X_raw = [x for x in all_seq if len(x)>50]\n",
    "len(X_raw)"
   ]
  },
  {
   "cell_type": "markdown",
   "metadata": {},
   "source": [
    "### Model"
   ]
  },
  {
   "cell_type": "code",
   "execution_count": 3,
   "metadata": {},
   "outputs": [
    {
     "name": "stderr",
     "output_type": "stream",
     "text": [
      "Using TensorFlow backend.\n"
     ]
    }
   ],
   "source": [
    "from keras.models import Sequential\n",
    "from keras.layers import Dense\n",
    "from keras.layers import LSTM\n",
    "from keras.layers import Dropout\n",
    "from keras.preprocessing import sequence"
   ]
  },
  {
   "cell_type": "code",
   "execution_count": 7,
   "metadata": {},
   "outputs": [
    {
     "name": "stdout",
     "output_type": "stream",
     "text": [
      "WARNING:tensorflow:From /home/raphael/.local/lib/python3.6/site-packages/tensorflow/python/framework/op_def_library.py:263: colocate_with (from tensorflow.python.framework.ops) is deprecated and will be removed in a future version.\n",
      "Instructions for updating:\n",
      "Colocations handled automatically by placer.\n",
      "WARNING:tensorflow:From /home/raphael/.local/lib/python3.6/site-packages/keras/backend/tensorflow_backend.py:3445: calling dropout (from tensorflow.python.ops.nn_ops) with keep_prob is deprecated and will be removed in a future version.\n",
      "Instructions for updating:\n",
      "Please use `rate` instead of `keep_prob`. Rate should be set to `rate = 1 - keep_prob`.\n",
      "_________________________________________________________________\n",
      "Layer (type)                 Output Shape              Param #   \n",
      "=================================================================\n",
      "lstm_1 (LSTM)                (None, 25, 64)            23040     \n",
      "_________________________________________________________________\n",
      "lstm_2 (LSTM)                (None, 128)               98816     \n",
      "_________________________________________________________________\n",
      "dropout_1 (Dropout)          (None, 128)               0         \n",
      "_________________________________________________________________\n",
      "dense_1 (Dense)              (None, 256)               33024     \n",
      "_________________________________________________________________\n",
      "dense_2 (Dense)              (None, 25)                6425      \n",
      "=================================================================\n",
      "Total params: 161,305\n",
      "Trainable params: 161,305\n",
      "Non-trainable params: 0\n",
      "_________________________________________________________________\n"
     ]
    }
   ],
   "source": [
    "# vocabulary (number of one-hot-encoded columns)\n",
    "voc = len(unique)\n",
    "# window size ('memory')\n",
    "win = 25\n",
    "\n",
    "model = Sequential()\n",
    "model.add(LSTM((64),input_shape=(win, voc),return_sequences=True))\n",
    "model.add(LSTM((128),input_shape=(win, voc),return_sequences=False))\n",
    "model.add(Dropout(0.5))\n",
    "model.add(Dense(256,activation='relu'))   \n",
    "model.add(Dense(voc,activation='softmax'))\n",
    "model.compile(loss='categorical_crossentropy', optimizer='adam',metrics=['accuracy'])\n",
    "model.summary()"
   ]
  },
  {
   "cell_type": "code",
   "execution_count": 8,
   "metadata": {},
   "outputs": [
    {
     "data": {
      "text/plain": [
       "7648920"
      ]
     },
     "execution_count": 8,
     "metadata": {},
     "output_type": "execute_result"
    }
   ],
   "source": [
    "# prepare X and y. X_total is a tuple of 'x' and 'y' \n",
    "# everything is essentially taken from the same sequences 'X_raw'\n",
    "X_total = []\n",
    "for x in X_raw:\n",
    "    X_total.extend([(x[i:i+win],x[i+win]) for i in range(len(x)-(win))])\n",
    "len(X_total)"
   ]
  },
  {
   "cell_type": "code",
   "execution_count": 34,
   "metadata": {},
   "outputs": [],
   "source": [
    "# input and labels generator\n",
    "def one_hot_generator(X_all,batch_size,window,vocabulary,iterations=10):\n",
    "    # run indefinitely\n",
    "    while (True):\n",
    "        # generate new indices\n",
    "        indices = np.random.choice(range(len(X_all)),size=batch_size*iterations,replace=False)\n",
    "        for i in range(iterations):\n",
    "            # subset of indices, generate one-hot-encoded X and y\n",
    "            total = np.array(X_all)[indices[i*batch_size:(i+1)*batch_size]]\n",
    "\n",
    "            X = np.zeros((batch_size,window,vocabulary),dtype=int)\n",
    "            y = np.zeros((batch_size,vocabulary),dtype=int)\n",
    "\n",
    "            for i in range(batch_size):\n",
    "                xy = total[i]\n",
    "                X[i][range(win),[aa_to_n[i] for i in xy[0]]] = 1\n",
    "                y[i][aa_to_n[xy[1]]] = 1  \n",
    "\n",
    "            yield X,y"
   ]
  },
  {
   "cell_type": "markdown",
   "metadata": {},
   "source": [
    "### Train model"
   ]
  },
  {
   "cell_type": "code",
   "execution_count": 42,
   "metadata": {},
   "outputs": [
    {
     "name": "stdout",
     "output_type": "stream",
     "text": [
      "Epoch 1/10\n",
      "10/10 [==============================] - 204s 20s/step - loss: 2.8126 - acc: 0.1041\n",
      "Epoch 2/10\n",
      "10/10 [==============================] - 189s 19s/step - loss: 2.8121 - acc: 0.1045\n",
      "Epoch 3/10\n",
      "10/10 [==============================] - 201s 20s/step - loss: 2.8115 - acc: 0.1056\n",
      "Epoch 4/10\n",
      "10/10 [==============================] - 190s 19s/step - loss: 2.8107 - acc: 0.1055\n",
      "Epoch 5/10\n",
      "10/10 [==============================] - 191s 19s/step - loss: 2.8111 - acc: 0.1061\n",
      "Epoch 6/10\n",
      "10/10 [==============================] - 204s 20s/step - loss: 2.8109 - acc: 0.1058\n",
      "Epoch 7/10\n",
      "10/10 [==============================] - 191s 19s/step - loss: 2.8098 - acc: 0.1058\n",
      "Epoch 8/10\n",
      "10/10 [==============================] - 187s 19s/step - loss: 2.8103 - acc: 0.1061\n",
      "Epoch 9/10\n",
      "10/10 [==============================] - 188s 19s/step - loss: 2.8079 - acc: 0.1066\n",
      "Epoch 10/10\n",
      "10/10 [==============================] - 188s 19s/step - loss: 2.8074 - acc: 0.1074\n"
     ]
    },
    {
     "data": {
      "text/plain": [
       "<keras.callbacks.History at 0x7f93fe3965f8>"
      ]
     },
     "execution_count": 42,
     "metadata": {},
     "output_type": "execute_result"
    }
   ],
   "source": [
    "model.fit_generator(one_hot_generator(X_total,25000,win,voc),steps_per_epoch=10,epochs=10)"
   ]
  },
  {
   "cell_type": "markdown",
   "metadata": {},
   "source": [
    "### Evaluate model"
   ]
  },
  {
   "cell_type": "code",
   "execution_count": 43,
   "metadata": {},
   "outputs": [
    {
     "data": {
      "text/plain": [
       "[2.8067962169647216, 0.10736999958753586]"
      ]
     },
     "execution_count": 43,
     "metadata": {},
     "output_type": "execute_result"
    }
   ],
   "source": [
    "model.evaluate_generator(one_hot_generator(X_total,10000,win,voc),steps=10)"
   ]
  },
  {
   "cell_type": "code",
   "execution_count": null,
   "metadata": {},
   "outputs": [],
   "source": []
  }
 ],
 "metadata": {
  "kernelspec": {
   "display_name": "Python 3",
   "language": "python",
   "name": "python3"
  },
  "language_info": {
   "codemirror_mode": {
    "name": "ipython",
    "version": 3
   },
   "file_extension": ".py",
   "mimetype": "text/x-python",
   "name": "python",
   "nbconvert_exporter": "python",
   "pygments_lexer": "ipython3",
   "version": "3.6.8"
  }
 },
 "nbformat": 4,
 "nbformat_minor": 2
}
