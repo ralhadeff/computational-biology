{
 "cells": [
  {
   "cell_type": "markdown",
   "metadata": {},
   "source": [
    "# Protein sequence playing around\n",
    "### Continued"
   ]
  },
  {
   "cell_type": "code",
   "execution_count": 1,
   "metadata": {},
   "outputs": [],
   "source": [
    "import numpy as np\n",
    "import requests\n",
    "import re\n",
    "import xml.etree.ElementTree as ET\n",
    "\n",
    "import matplotlib.pyplot as plt"
   ]
  },
  {
   "cell_type": "markdown",
   "metadata": {},
   "source": [
    "### Load data\n",
    "Sequences were previously taken from the RCSB website"
   ]
  },
  {
   "cell_type": "code",
   "execution_count": 2,
   "metadata": {},
   "outputs": [],
   "source": [
    "import pickle\n",
    "with open ('fastas', 'rb') as read:\n",
    "    all_seq = pickle.load(read)"
   ]
  },
  {
   "cell_type": "markdown",
   "metadata": {},
   "source": [
    "Full vocabulary"
   ]
  },
  {
   "cell_type": "code",
   "execution_count": 4,
   "metadata": {},
   "outputs": [
    {
     "data": {
      "text/plain": [
       "'IWPulCREDMQSNGVFYHLnKTXAU'"
      ]
     },
     "execution_count": 4,
     "metadata": {},
     "output_type": "execute_result"
    }
   ],
   "source": [
    "unique = set()\n",
    "for s in all_seq:\n",
    "    for a in s:\n",
    "        unique.update(a)\n",
    "''.join(unique)"
   ]
  },
  {
   "cell_type": "code",
   "execution_count": 39,
   "metadata": {},
   "outputs": [],
   "source": [
    "# conversion maps\n",
    "n_to_aa = {i:v for i,v in enumerate(unique)}\n",
    "aa_to_n = {v:i for i,v in enumerate(unique)}"
   ]
  },
  {
   "cell_type": "markdown",
   "metadata": {},
   "source": [
    "Truncating short sequences"
   ]
  },
  {
   "cell_type": "code",
   "execution_count": 5,
   "metadata": {},
   "outputs": [
    {
     "data": {
      "text/plain": [
       "29778"
      ]
     },
     "execution_count": 5,
     "metadata": {},
     "output_type": "execute_result"
    }
   ],
   "source": [
    "X_raw = [x for x in all_seq if len(x)>50]\n",
    "len(X_raw)"
   ]
  },
  {
   "cell_type": "markdown",
   "metadata": {},
   "source": [
    "### Model"
   ]
  },
  {
   "cell_type": "code",
   "execution_count": 3,
   "metadata": {},
   "outputs": [
    {
     "name": "stderr",
     "output_type": "stream",
     "text": [
      "Using TensorFlow backend.\n"
     ]
    }
   ],
   "source": [
    "from keras.models import Sequential\n",
    "from keras.layers import Dense\n",
    "from keras.layers import LSTM\n",
    "from keras.layers import Dropout\n",
    "from keras.preprocessing import sequence"
   ]
  },
  {
   "cell_type": "code",
   "execution_count": 7,
   "metadata": {},
   "outputs": [
    {
     "name": "stdout",
     "output_type": "stream",
     "text": [
      "WARNING:tensorflow:From /home/raphael/.local/lib/python3.6/site-packages/tensorflow/python/framework/op_def_library.py:263: colocate_with (from tensorflow.python.framework.ops) is deprecated and will be removed in a future version.\n",
      "Instructions for updating:\n",
      "Colocations handled automatically by placer.\n",
      "WARNING:tensorflow:From /home/raphael/.local/lib/python3.6/site-packages/keras/backend/tensorflow_backend.py:3445: calling dropout (from tensorflow.python.ops.nn_ops) with keep_prob is deprecated and will be removed in a future version.\n",
      "Instructions for updating:\n",
      "Please use `rate` instead of `keep_prob`. Rate should be set to `rate = 1 - keep_prob`.\n",
      "_________________________________________________________________\n",
      "Layer (type)                 Output Shape              Param #   \n",
      "=================================================================\n",
      "lstm_1 (LSTM)                (None, 25, 64)            23040     \n",
      "_________________________________________________________________\n",
      "lstm_2 (LSTM)                (None, 128)               98816     \n",
      "_________________________________________________________________\n",
      "dropout_1 (Dropout)          (None, 128)               0         \n",
      "_________________________________________________________________\n",
      "dense_1 (Dense)              (None, 256)               33024     \n",
      "_________________________________________________________________\n",
      "dense_2 (Dense)              (None, 25)                6425      \n",
      "=================================================================\n",
      "Total params: 161,305\n",
      "Trainable params: 161,305\n",
      "Non-trainable params: 0\n",
      "_________________________________________________________________\n"
     ]
    }
   ],
   "source": [
    "# vocabulary (number of one-hot-encoded columns)\n",
    "voc = len(unique)\n",
    "# window size ('memory')\n",
    "win = 25\n",
    "\n",
    "model = Sequential()\n",
    "model.add(LSTM((64),input_shape=(win, voc),return_sequences=True))\n",
    "model.add(LSTM((128),input_shape=(win, voc),return_sequences=False))\n",
    "model.add(Dropout(0.5))\n",
    "model.add(Dense(256,activation='relu'))   \n",
    "model.add(Dense(voc,activation='softmax'))\n",
    "model.compile(loss='categorical_crossentropy', optimizer='adam',metrics=['accuracy'])\n",
    "model.summary()"
   ]
  },
  {
   "cell_type": "code",
   "execution_count": 8,
   "metadata": {},
   "outputs": [
    {
     "data": {
      "text/plain": [
       "7648920"
      ]
     },
     "execution_count": 8,
     "metadata": {},
     "output_type": "execute_result"
    }
   ],
   "source": [
    "# prepare X and y. X_total is a tuple of 'x' and 'y' \n",
    "# everything is essentially taken from the same sequences 'X_raw'\n",
    "X_total = []\n",
    "for x in X_raw:\n",
    "    X_total.extend([(x[i:i+win],x[i+win]) for i in range(len(x)-(win))])\n",
    "len(X_total)"
   ]
  },
  {
   "cell_type": "code",
   "execution_count": 34,
   "metadata": {},
   "outputs": [],
   "source": [
    "# input and labels generator\n",
    "def one_hot_generator(X_all,batch_size,window,vocabulary,iterations=10):\n",
    "    # run indefinitely\n",
    "    while (True):\n",
    "        # generate new indices\n",
    "        indices = np.random.choice(range(len(X_all)),size=batch_size*iterations,replace=False)\n",
    "        for i in range(iterations):\n",
    "            # subset of indices, generate one-hot-encoded X and y\n",
    "            total = np.array(X_all)[indices[i*batch_size:(i+1)*batch_size]]\n",
    "\n",
    "            X = np.zeros((batch_size,window,vocabulary),dtype=int)\n",
    "            y = np.zeros((batch_size,vocabulary),dtype=int)\n",
    "\n",
    "            for i in range(batch_size):\n",
    "                xy = total[i]\n",
    "                X[i][range(win),[aa_to_n[i] for i in xy[0]]] = 1\n",
    "                y[i][aa_to_n[xy[1]]] = 1  \n",
    "\n",
    "            yield X,y"
   ]
  },
  {
   "cell_type": "markdown",
   "metadata": {},
   "source": [
    "### Train model"
   ]
  },
  {
   "cell_type": "code",
   "execution_count": 44,
   "metadata": {},
   "outputs": [
    {
     "name": "stdout",
     "output_type": "stream",
     "text": [
      "Epoch 1/100\n",
      "10/10 [==============================] - 191s 19s/step - loss: 2.8081 - acc: 0.1061\n",
      "Epoch 2/100\n",
      "10/10 [==============================] - 188s 19s/step - loss: 2.8073 - acc: 0.1072\n",
      "Epoch 3/100\n",
      "10/10 [==============================] - 184s 18s/step - loss: 2.8089 - acc: 0.1061\n",
      "Epoch 4/100\n",
      "10/10 [==============================] - 178s 18s/step - loss: 2.8078 - acc: 0.1072\n",
      "Epoch 5/100\n",
      "10/10 [==============================] - 177s 18s/step - loss: 2.8079 - acc: 0.1067\n",
      "Epoch 6/100\n",
      "10/10 [==============================] - 180s 18s/step - loss: 2.8047 - acc: 0.1073\n",
      "Epoch 7/100\n",
      "10/10 [==============================] - 184s 18s/step - loss: 2.8063 - acc: 0.1074\n",
      "Epoch 8/100\n",
      "10/10 [==============================] - 181s 18s/step - loss: 2.8057 - acc: 0.1076\n",
      "Epoch 9/100\n",
      "10/10 [==============================] - 183s 18s/step - loss: 2.8056 - acc: 0.1080\n",
      "Epoch 10/100\n",
      "10/10 [==============================] - 183s 18s/step - loss: 2.8058 - acc: 0.1072\n",
      "Epoch 11/100\n",
      "10/10 [==============================] - 177s 18s/step - loss: 2.8070 - acc: 0.1057\n",
      "Epoch 12/100\n",
      "10/10 [==============================] - 176s 18s/step - loss: 2.8056 - acc: 0.1065\n",
      "Epoch 13/100\n",
      "10/10 [==============================] - 183s 18s/step - loss: 2.8057 - acc: 0.1077\n",
      "Epoch 14/100\n",
      "10/10 [==============================] - 183s 18s/step - loss: 2.8048 - acc: 0.1072\n",
      "Epoch 15/100\n",
      "10/10 [==============================] - 177s 18s/step - loss: 2.8036 - acc: 0.1072\n",
      "Epoch 16/100\n",
      "10/10 [==============================] - 182s 18s/step - loss: 2.8033 - acc: 0.1084\n",
      "Epoch 17/100\n",
      "10/10 [==============================] - 182s 18s/step - loss: 2.8029 - acc: 0.1085\n",
      "Epoch 18/100\n",
      "10/10 [==============================] - 178s 18s/step - loss: 2.8038 - acc: 0.1086\n",
      "Epoch 19/100\n",
      "10/10 [==============================] - 178s 18s/step - loss: 2.8006 - acc: 0.1089\n",
      "Epoch 20/100\n",
      "10/10 [==============================] - 183s 18s/step - loss: 2.8015 - acc: 0.1087\n",
      "Epoch 21/100\n",
      "10/10 [==============================] - 178s 18s/step - loss: 2.8012 - acc: 0.1097\n",
      "Epoch 22/100\n",
      "10/10 [==============================] - 183s 18s/step - loss: 2.7997 - acc: 0.1089\n",
      "Epoch 23/100\n",
      "10/10 [==============================] - 183s 18s/step - loss: 2.8001 - acc: 0.1100\n",
      "Epoch 24/100\n",
      "10/10 [==============================] - 178s 18s/step - loss: 2.8032 - acc: 0.1095\n",
      "Epoch 25/100\n",
      "10/10 [==============================] - 178s 18s/step - loss: 2.7996 - acc: 0.1102\n",
      "Epoch 26/100\n",
      "10/10 [==============================] - 183s 18s/step - loss: 2.7995 - acc: 0.1096\n",
      "Epoch 27/100\n",
      "10/10 [==============================] - 186s 19s/step - loss: 2.7992 - acc: 0.1095\n",
      "Epoch 28/100\n",
      "10/10 [==============================] - 184s 18s/step - loss: 2.7969 - acc: 0.1115\n",
      "Epoch 29/100\n",
      "10/10 [==============================] - 184s 18s/step - loss: 2.7974 - acc: 0.1110\n",
      "Epoch 30/100\n",
      "10/10 [==============================] - 177s 18s/step - loss: 2.7976 - acc: 0.1114\n",
      "Epoch 31/100\n",
      "10/10 [==============================] - 177s 18s/step - loss: 2.7973 - acc: 0.1098\n",
      "Epoch 32/100\n",
      "10/10 [==============================] - 177s 18s/step - loss: 2.7977 - acc: 0.1111\n",
      "Epoch 33/100\n",
      "10/10 [==============================] - 179s 18s/step - loss: 2.7970 - acc: 0.1112\n",
      "Epoch 34/100\n",
      "10/10 [==============================] - 185s 18s/step - loss: 2.7957 - acc: 0.1118\n",
      "Epoch 35/100\n",
      "10/10 [==============================] - 188s 19s/step - loss: 2.7972 - acc: 0.1111\n",
      "Epoch 36/100\n",
      "10/10 [==============================] - 184s 18s/step - loss: 2.7946 - acc: 0.1107\n",
      "Epoch 37/100\n",
      "10/10 [==============================] - 178s 18s/step - loss: 2.7978 - acc: 0.1115\n",
      "Epoch 38/100\n",
      "10/10 [==============================] - 177s 18s/step - loss: 2.7973 - acc: 0.1120\n",
      "Epoch 39/100\n",
      "10/10 [==============================] - 177s 18s/step - loss: 2.7958 - acc: 0.1117\n",
      "Epoch 40/100\n",
      "10/10 [==============================] - 182s 18s/step - loss: 2.7955 - acc: 0.1119\n",
      "Epoch 41/100\n",
      "10/10 [==============================] - 184s 18s/step - loss: 2.7939 - acc: 0.1127\n",
      "Epoch 42/100\n",
      "10/10 [==============================] - 179s 18s/step - loss: 2.7963 - acc: 0.1118\n",
      "Epoch 43/100\n",
      "10/10 [==============================] - 178s 18s/step - loss: 2.7951 - acc: 0.1117\n",
      "Epoch 44/100\n",
      "10/10 [==============================] - 181s 18s/step - loss: 2.7929 - acc: 0.1129\n",
      "Epoch 45/100\n",
      "10/10 [==============================] - 182s 18s/step - loss: 2.7936 - acc: 0.1116\n",
      "Epoch 46/100\n",
      "10/10 [==============================] - 182s 18s/step - loss: 2.7925 - acc: 0.1117\n",
      "Epoch 47/100\n",
      "10/10 [==============================] - 184s 18s/step - loss: 2.7935 - acc: 0.1141\n",
      "Epoch 48/100\n",
      "10/10 [==============================] - 178s 18s/step - loss: 2.7949 - acc: 0.1115\n",
      "Epoch 49/100\n",
      "10/10 [==============================] - 176s 18s/step - loss: 2.7942 - acc: 0.1124\n",
      "Epoch 50/100\n",
      "10/10 [==============================] - 176s 18s/step - loss: 2.7922 - acc: 0.1134\n",
      "Epoch 51/100\n",
      "10/10 [==============================] - 184s 18s/step - loss: 2.7904 - acc: 0.1134\n",
      "Epoch 52/100\n",
      "10/10 [==============================] - 180s 18s/step - loss: 2.7945 - acc: 0.1116\n",
      "Epoch 53/100\n",
      "10/10 [==============================] - 182s 18s/step - loss: 2.7921 - acc: 0.1138\n",
      "Epoch 54/100\n",
      "10/10 [==============================] - 182s 18s/step - loss: 2.7910 - acc: 0.1123\n",
      "Epoch 55/100\n",
      "10/10 [==============================] - 178s 18s/step - loss: 2.7929 - acc: 0.1130\n",
      "Epoch 56/100\n",
      "10/10 [==============================] - 183s 18s/step - loss: 2.7927 - acc: 0.1126\n",
      "Epoch 57/100\n",
      "10/10 [==============================] - 182s 18s/step - loss: 2.7919 - acc: 0.1121\n",
      "Epoch 58/100\n",
      "10/10 [==============================] - 181s 18s/step - loss: 2.7930 - acc: 0.1134\n",
      "Epoch 59/100\n",
      "10/10 [==============================] - 176s 18s/step - loss: 2.7905 - acc: 0.1136\n",
      "Epoch 60/100\n",
      "10/10 [==============================] - 182s 18s/step - loss: 2.7913 - acc: 0.1131\n",
      "Epoch 61/100\n",
      "10/10 [==============================] - 185s 18s/step - loss: 2.7901 - acc: 0.1124\n",
      "Epoch 62/100\n",
      "10/10 [==============================] - 185s 18s/step - loss: 2.7908 - acc: 0.1119\n",
      "Epoch 63/100\n",
      "10/10 [==============================] - 181s 18s/step - loss: 2.7906 - acc: 0.1136\n",
      "Epoch 64/100\n",
      "10/10 [==============================] - 177s 18s/step - loss: 2.7935 - acc: 0.1118\n",
      "Epoch 65/100\n",
      "10/10 [==============================] - 176s 18s/step - loss: 2.7899 - acc: 0.1137\n",
      "Epoch 66/100\n",
      "10/10 [==============================] - 181s 18s/step - loss: 2.7917 - acc: 0.1129\n",
      "Epoch 67/100\n",
      "10/10 [==============================] - 185s 18s/step - loss: 2.7930 - acc: 0.1124\n",
      "Epoch 68/100\n",
      "10/10 [==============================] - 184s 18s/step - loss: 2.7904 - acc: 0.1126\n",
      "Epoch 69/100\n",
      "10/10 [==============================] - 180s 18s/step - loss: 2.7929 - acc: 0.1132\n",
      "Epoch 70/100\n",
      "10/10 [==============================] - 177s 18s/step - loss: 2.7925 - acc: 0.1130\n",
      "Epoch 71/100\n",
      "10/10 [==============================] - 176s 18s/step - loss: 2.7906 - acc: 0.1133\n",
      "Epoch 72/100\n",
      "10/10 [==============================] - 177s 18s/step - loss: 2.7879 - acc: 0.1138\n",
      "Epoch 73/100\n",
      "10/10 [==============================] - 186s 19s/step - loss: 2.7903 - acc: 0.1130\n",
      "Epoch 74/100\n",
      "10/10 [==============================] - 186s 19s/step - loss: 2.7902 - acc: 0.1150\n",
      "Epoch 75/100\n",
      "10/10 [==============================] - 183s 18s/step - loss: 2.7872 - acc: 0.1141\n",
      "Epoch 76/100\n",
      "10/10 [==============================] - 179s 18s/step - loss: 2.7894 - acc: 0.1135\n",
      "Epoch 77/100\n",
      "10/10 [==============================] - 176s 18s/step - loss: 2.7899 - acc: 0.1136\n",
      "Epoch 78/100\n",
      "10/10 [==============================] - 177s 18s/step - loss: 2.7886 - acc: 0.1139\n",
      "Epoch 79/100\n",
      "10/10 [==============================] - 182s 18s/step - loss: 2.7897 - acc: 0.1134\n",
      "Epoch 80/100\n",
      "10/10 [==============================] - 186s 19s/step - loss: 2.7874 - acc: 0.1141\n",
      "Epoch 81/100\n",
      "10/10 [==============================] - 185s 18s/step - loss: 2.7880 - acc: 0.1152\n",
      "Epoch 82/100\n",
      "10/10 [==============================] - 178s 18s/step - loss: 2.7885 - acc: 0.1142\n",
      "Epoch 83/100\n",
      "10/10 [==============================] - 177s 18s/step - loss: 2.7871 - acc: 0.1153\n",
      "Epoch 84/100\n",
      "10/10 [==============================] - 177s 18s/step - loss: 2.7881 - acc: 0.1150\n",
      "Epoch 85/100\n"
     ]
    },
    {
     "name": "stdout",
     "output_type": "stream",
     "text": [
      "10/10 [==============================] - 178s 18s/step - loss: 2.7860 - acc: 0.1152\n",
      "Epoch 86/100\n",
      "10/10 [==============================] - 183s 18s/step - loss: 2.7869 - acc: 0.1148\n",
      "Epoch 87/100\n",
      "10/10 [==============================] - 183s 18s/step - loss: 2.7880 - acc: 0.1138\n",
      "Epoch 88/100\n",
      "10/10 [==============================] - 185s 18s/step - loss: 2.7872 - acc: 0.1144\n",
      "Epoch 89/100\n",
      "10/10 [==============================] - 179s 18s/step - loss: 2.7888 - acc: 0.1133\n",
      "Epoch 90/100\n",
      "10/10 [==============================] - 176s 18s/step - loss: 2.7859 - acc: 0.1150\n",
      "Epoch 91/100\n",
      "10/10 [==============================] - 177s 18s/step - loss: 2.7864 - acc: 0.1155\n",
      "Epoch 92/100\n",
      "10/10 [==============================] - 185s 18s/step - loss: 2.7881 - acc: 0.1145\n",
      "Epoch 93/100\n",
      "10/10 [==============================] - 181s 18s/step - loss: 2.7854 - acc: 0.1149\n",
      "Epoch 94/100\n",
      "10/10 [==============================] - 179s 18s/step - loss: 2.7863 - acc: 0.1146\n",
      "Epoch 95/100\n",
      "10/10 [==============================] - 184s 18s/step - loss: 2.7855 - acc: 0.1171\n",
      "Epoch 96/100\n",
      "10/10 [==============================] - 181s 18s/step - loss: 2.7879 - acc: 0.1147\n",
      "Epoch 97/100\n",
      "10/10 [==============================] - 177s 18s/step - loss: 2.7867 - acc: 0.1152\n",
      "Epoch 98/100\n",
      "10/10 [==============================] - 179s 18s/step - loss: 2.7857 - acc: 0.1157\n",
      "Epoch 99/100\n",
      "10/10 [==============================] - 183s 18s/step - loss: 2.7853 - acc: 0.1171\n",
      "Epoch 100/100\n",
      "10/10 [==============================] - 179s 18s/step - loss: 2.7860 - acc: 0.1154\n"
     ]
    },
    {
     "data": {
      "text/plain": [
       "<keras.callbacks.History at 0x7f94003fe358>"
      ]
     },
     "execution_count": 44,
     "metadata": {},
     "output_type": "execute_result"
    }
   ],
   "source": [
    "model.fit_generator(one_hot_generator(X_total,25000,win,voc),steps_per_epoch=10,epochs=100)"
   ]
  },
  {
   "cell_type": "markdown",
   "metadata": {},
   "source": [
    "### Evaluate model"
   ]
  },
  {
   "cell_type": "code",
   "execution_count": 45,
   "metadata": {},
   "outputs": [
    {
     "data": {
      "text/plain": [
       "[2.780729079246521, 0.11845999956130981]"
      ]
     },
     "execution_count": 45,
     "metadata": {},
     "output_type": "execute_result"
    }
   ],
   "source": [
    "model.evaluate_generator(one_hot_generator(X_total,10000,win,voc),steps=10)"
   ]
  },
  {
   "cell_type": "code",
   "execution_count": null,
   "metadata": {},
   "outputs": [],
   "source": []
  }
 ],
 "metadata": {
  "kernelspec": {
   "display_name": "Python 3",
   "language": "python",
   "name": "python3"
  },
  "language_info": {
   "codemirror_mode": {
    "name": "ipython",
    "version": 3
   },
   "file_extension": ".py",
   "mimetype": "text/x-python",
   "name": "python",
   "nbconvert_exporter": "python",
   "pygments_lexer": "ipython3",
   "version": "3.6.8"
  }
 },
 "nbformat": 4,
 "nbformat_minor": 2
}
