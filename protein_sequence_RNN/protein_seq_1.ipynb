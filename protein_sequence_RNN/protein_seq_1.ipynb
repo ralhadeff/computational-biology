{
 "cells": [
  {
   "cell_type": "markdown",
   "metadata": {},
   "source": [
    "# Protein sequence playing around"
   ]
  },
  {
   "cell_type": "code",
   "execution_count": 125,
   "metadata": {},
   "outputs": [],
   "source": [
    "import numpy as np\n",
    "import requests\n",
    "import re\n",
    "import xml.etree.ElementTree as ET\n",
    "\n",
    "import matplotlib.pyplot as plt"
   ]
  },
  {
   "cell_type": "code",
   "execution_count": 8,
   "metadata": {},
   "outputs": [],
   "source": [
    "url = 'https://www.rcsb.org/pdb/rest/getCurrent'\n",
    "response = requests.get(url) \n",
    "xml = response.text\n",
    "xml = xml.split('\\n')"
   ]
  },
  {
   "cell_type": "code",
   "execution_count": 21,
   "metadata": {},
   "outputs": [],
   "source": [
    "pdbs = [re.search('structureId=\"(....)\"',x)[1] for x in xml[2:-2]]"
   ]
  },
  {
   "cell_type": "code",
   "execution_count": 26,
   "metadata": {},
   "outputs": [
    {
     "data": {
      "text/plain": [
       "['100D', '101D', '101M', '102D', '102L', '102M', '103D', '103L']"
      ]
     },
     "execution_count": 26,
     "metadata": {},
     "output_type": "execute_result"
    }
   ],
   "source": [
    "pdbs[:8]"
   ]
  },
  {
   "cell_type": "code",
   "execution_count": 61,
   "metadata": {},
   "outputs": [
    {
     "data": {
      "text/plain": [
       "33336"
      ]
     },
     "execution_count": 61,
     "metadata": {},
     "output_type": "execute_result"
    }
   ],
   "source": [
    "# randomly sample some PDBs\n",
    "sample = np.random.choice(pdbs,10000,replace=False)\n",
    "\n",
    "# extract all fasta sequences\n",
    "all_seq = []\n",
    "for i in sample:\n",
    "    url = f'https://www.rcsb.org/pdb/rest/customReport.xml?pdbids={i.lower()}&customReportColumns=sequence'\n",
    "    response = requests.get(url)\n",
    "    txt = response.text\n",
    "    root = ET.fromstring(txt)\n",
    "    for child in root:\n",
    "        for e in child:\n",
    "            if (e.tag) == 'dimEntity.sequence':\n",
    "                all_seq.append(e.text)  \n",
    "                \n",
    "len(all_seq)                "
   ]
  },
  {
   "cell_type": "code",
   "execution_count": 63,
   "metadata": {},
   "outputs": [],
   "source": [
    "# for future usage, I will save thes as a txt file for faster loading\n",
    "import pickle\n",
    "\n",
    "with open('fastas', 'wb') as out:\n",
    "    pickle.dump(all_seq, out)\n",
    "\n",
    "with open ('fastas', 'rb') as read:\n",
    "    all_seq = pickle.load(read)"
   ]
  },
  {
   "cell_type": "code",
   "execution_count": 65,
   "metadata": {},
   "outputs": [
    {
     "name": "stderr",
     "output_type": "stream",
     "text": [
      "Using TensorFlow backend.\n"
     ]
    }
   ],
   "source": [
    "from keras.models import Sequential\n",
    "from keras.layers import Dense\n",
    "from keras.layers import LSTM\n",
    "from keras.preprocessing import sequence"
   ]
  },
  {
   "cell_type": "code",
   "execution_count": 123,
   "metadata": {},
   "outputs": [
    {
     "data": {
      "text/plain": [
       "'GULSKHlAVnCRWENTuFIMQDYPX'"
      ]
     },
     "execution_count": 123,
     "metadata": {},
     "output_type": "execute_result"
    }
   ],
   "source": [
    "unique = set()\n",
    "for s in all_seq:\n",
    "    for a in s:\n",
    "        unique.update(a)\n",
    "''.join(unique)"
   ]
  },
  {
   "cell_type": "code",
   "execution_count": 131,
   "metadata": {},
   "outputs": [
    {
     "data": {
      "image/png": "[encoded data removed]",
      "text/plain": [
       "<Figure size 432x288 with 1 Axes>"
      ]
     },
     "metadata": {},
     "output_type": "display_data"
    }
   ],
   "source": [
    "plt.hist([len(x) for x in all_seq],bins=200)\n",
    "plt.xlim(0,200)\n",
    "plt.show()"
   ]
  },
  {
   "cell_type": "code",
   "execution_count": 132,
   "metadata": {},
   "outputs": [
    {
     "data": {
      "text/plain": [
       "29778"
      ]
     },
     "execution_count": 132,
     "metadata": {},
     "output_type": "execute_result"
    }
   ],
   "source": [
    "X_raw = [x for x in all_seq if len(x)>50]\n",
    "len(X_raw)"
   ]
  },
  {
   "cell_type": "code",
   "execution_count": 136,
   "metadata": {},
   "outputs": [],
   "source": [
    "n_to_aa = {i:v for i,v in enumerate(unique)}\n",
    "aa_to_n = {v:i for i,v in enumerate(unique)}"
   ]
  },
  {
   "cell_type": "code",
   "execution_count": 202,
   "metadata": {},
   "outputs": [
    {
     "name": "stdout",
     "output_type": "stream",
     "text": [
      "_________________________________________________________________\n",
      "Layer (type)                 Output Shape              Param #   \n",
      "=================================================================\n",
      "lstm_42 (LSTM)               (None, 15)                2460      \n",
      "_________________________________________________________________\n",
      "dense_20 (Dense)             (None, 25)                400       \n",
      "=================================================================\n",
      "Total params: 2,860\n",
      "Trainable params: 2,860\n",
      "Non-trainable params: 0\n",
      "_________________________________________________________________\n"
     ]
    }
   ],
   "source": [
    "voc = len(unique)\n",
    "win = 5\n",
    "\n",
    "model = Sequential()\n",
    "model.add(LSTM((15), input_shape=(win, voc)))\n",
    "model.add(Dense(voc,activation='softmax'))\n",
    "model.compile(loss='categorical_crossentropy', optimizer='adam',metrics=['accuracy'])\n",
    "model.summary()"
   ]
  },
  {
   "cell_type": "code",
   "execution_count": 162,
   "metadata": {},
   "outputs": [
    {
     "data": {
      "text/plain": [
       "8244480"
      ]
     },
     "execution_count": 162,
     "metadata": {},
     "output_type": "execute_result"
    }
   ],
   "source": [
    "# prepare X and y\n",
    "X_total = []\n",
    "for x in X_raw:\n",
    "    X_total.extend([(x[i:i+win],x[i+win]) for i in range(len(x)-(win))])\n",
    "len(X_total)"
   ]
  },
  {
   "cell_type": "code",
   "execution_count": 197,
   "metadata": {},
   "outputs": [],
   "source": [
    "# try a subsample\n",
    "\n",
    "sample = 100000\n",
    "test = 100000\n",
    "\n",
    "indices = np.random.choice(range(len(X_total)),size=sample+test,replace=False)\n",
    "total = np.array(X_total)[indices]\n",
    "\n",
    "X = np.zeros((sample+test,win,voc),dtype=int)\n",
    "y = np.zeros((sample+test,voc),dtype=int)\n",
    "\n",
    "for i in range(sample+test):\n",
    "    xy = total[i]\n",
    "    X[i][range(win),[aa_to_n[i] for i in xy[0]]] = 1\n",
    "    y[i][aa_to_n[xy[1]]] = 1   \n",
    "    \n",
    "X_train = X[:sample]\n",
    "y_train = y[:sample]\n",
    "X_test = X[sample:]\n",
    "y_test = y[sample:]"
   ]
  },
  {
   "cell_type": "code",
   "execution_count": 198,
   "metadata": {},
   "outputs": [
    {
     "data": {
      "text/plain": [
       "((100000, 5, 25), (100000, 25))"
      ]
     },
     "execution_count": 198,
     "metadata": {},
     "output_type": "execute_result"
    }
   ],
   "source": [
    "X_train.shape,y_train.shape"
   ]
  },
  {
   "cell_type": "code",
   "execution_count": null,
   "metadata": {},
   "outputs": [
    {
     "name": "stdout",
     "output_type": "stream",
     "text": [
      "Epoch 1/10\n",
      "100000/100000 [==============================] - 30s 298us/step - loss: 2.8656 - acc: 0.1005\n",
      "Epoch 2/10\n",
      "100000/100000 [==============================] - 28s 276us/step - loss: 2.8189 - acc: 0.1061\n",
      "Epoch 3/10\n",
      "100000/100000 [==============================] - 27s 272us/step - loss: 2.8126 - acc: 0.1066\n",
      "Epoch 4/10\n",
      "100000/100000 [==============================] - 27s 271us/step - loss: 2.8091 - acc: 0.1073\n",
      "Epoch 5/10\n",
      "100000/100000 [==============================] - 27s 271us/step - loss: 2.8067 - acc: 0.1074\n",
      "Epoch 6/10\n",
      "100000/100000 [==============================] - 27s 268us/step - loss: 2.8052 - acc: 0.1087\n",
      "Epoch 7/10\n",
      " 59520/100000 [================>.............] - ETA: 10s - loss: 2.8060 - acc: 0.1075"
     ]
    }
   ],
   "source": [
    "model.fit(X_train,y_train,epochs=10)"
   ]
  },
  {
   "cell_type": "code",
   "execution_count": null,
   "metadata": {},
   "outputs": [],
   "source": [
    "model.evaluate(X_test,y_test)"
   ]
  },
  {
   "cell_type": "code",
   "execution_count": null,
   "metadata": {},
   "outputs": [],
   "source": []
  }
 ],
 "metadata": {
  "kernelspec": {
   "display_name": "Python 3",
   "language": "python",
   "name": "python3"
  },
  "language_info": {
   "codemirror_mode": {
    "name": "ipython",
    "version": 3
   },
   "file_extension": ".py",
   "mimetype": "text/x-python",
   "name": "python",
   "nbconvert_exporter": "python",
   "pygments_lexer": "ipython3",
   "version": "3.6.8"
  }
 },
 "nbformat": 4,
 "nbformat_minor": 2
}
